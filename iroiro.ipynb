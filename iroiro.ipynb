{
 "cells": [
  {
   "cell_type": "code",
   "execution_count": 1,
   "metadata": {
    "collapsed": true
   },
   "outputs": [],
   "source": [
    "import numpy as np\n",
    "import pandas as pd\n",
    "import matplotlib.pyplot as plt\n",
    "%matplotlib inline"
   ]
  },
  {
   "cell_type": "code",
   "execution_count": 2,
   "metadata": {
    "collapsed": false
   },
   "outputs": [
    {
     "name": "stdout",
     "output_type": "stream",
     "text": [
      "(96, 14)\n"
     ]
    }
   ],
   "source": [
    "df = pd.read_csv(\"./TrainingSet.csv\")\n",
    "print df.shape"
   ]
  },
  {
   "cell_type": "code",
   "execution_count": 3,
   "metadata": {
    "collapsed": false
   },
   "outputs": [
    {
     "data": {
      "text/html": [
       "<div>\n",
       "<table border=\"1\" class=\"dataframe\">\n",
       "  <thead>\n",
       "    <tr style=\"text-align: right;\">\n",
       "      <th></th>\n",
       "      <th>y</th>\n",
       "      <th>YYYYMM</th>\n",
       "      <th>factor1</th>\n",
       "      <th>factor2</th>\n",
       "      <th>factor3</th>\n",
       "      <th>factor4</th>\n",
       "      <th>factor5</th>\n",
       "      <th>factor6</th>\n",
       "      <th>factor7</th>\n",
       "      <th>factor8</th>\n",
       "      <th>factor9</th>\n",
       "      <th>factor10</th>\n",
       "      <th>factor11</th>\n",
       "      <th>factor12</th>\n",
       "    </tr>\n",
       "  </thead>\n",
       "  <tbody>\n",
       "    <tr>\n",
       "      <th>0</th>\n",
       "      <td>8.9</td>\n",
       "      <td>200701</td>\n",
       "      <td>1.5</td>\n",
       "      <td>6.8</td>\n",
       "      <td>0.8</td>\n",
       "      <td>-14</td>\n",
       "      <td>0</td>\n",
       "      <td>2.2</td>\n",
       "      <td>-3.030303</td>\n",
       "      <td>0.1</td>\n",
       "      <td>-6.8</td>\n",
       "      <td>-4.7</td>\n",
       "      <td>NaN</td>\n",
       "      <td>NaN</td>\n",
       "    </tr>\n",
       "    <tr>\n",
       "      <th>1</th>\n",
       "      <td>3.3</td>\n",
       "      <td>200702</td>\n",
       "      <td>1.7</td>\n",
       "      <td>3.9</td>\n",
       "      <td>4.8</td>\n",
       "      <td>-107</td>\n",
       "      <td>1</td>\n",
       "      <td>1.5</td>\n",
       "      <td>8.333333</td>\n",
       "      <td>0.0</td>\n",
       "      <td>-4.9</td>\n",
       "      <td>-5.5</td>\n",
       "      <td>NaN</td>\n",
       "      <td>NaN</td>\n",
       "    </tr>\n",
       "    <tr>\n",
       "      <th>2</th>\n",
       "      <td>7.4</td>\n",
       "      <td>200703</td>\n",
       "      <td>-0.3</td>\n",
       "      <td>1.7</td>\n",
       "      <td>5.5</td>\n",
       "      <td>-17</td>\n",
       "      <td>1</td>\n",
       "      <td>0.7</td>\n",
       "      <td>36.000000</td>\n",
       "      <td>0.0</td>\n",
       "      <td>-4.3</td>\n",
       "      <td>-4.5</td>\n",
       "      <td>2.1</td>\n",
       "      <td>-0.1</td>\n",
       "    </tr>\n",
       "    <tr>\n",
       "      <th>3</th>\n",
       "      <td>6.9</td>\n",
       "      <td>200704</td>\n",
       "      <td>0.7</td>\n",
       "      <td>3.8</td>\n",
       "      <td>5.5</td>\n",
       "      <td>-14</td>\n",
       "      <td>0</td>\n",
       "      <td>0.2</td>\n",
       "      <td>15.151515</td>\n",
       "      <td>0.2</td>\n",
       "      <td>-6.5</td>\n",
       "      <td>-4.9</td>\n",
       "      <td>2.5</td>\n",
       "      <td>-0.3</td>\n",
       "    </tr>\n",
       "    <tr>\n",
       "      <th>4</th>\n",
       "      <td>-2.1</td>\n",
       "      <td>200705</td>\n",
       "      <td>1.8</td>\n",
       "      <td>2.0</td>\n",
       "      <td>2.4</td>\n",
       "      <td>13</td>\n",
       "      <td>-1</td>\n",
       "      <td>0.3</td>\n",
       "      <td>8.333333</td>\n",
       "      <td>0.0</td>\n",
       "      <td>-4.9</td>\n",
       "      <td>-3.1</td>\n",
       "      <td>1.5</td>\n",
       "      <td>0.9</td>\n",
       "    </tr>\n",
       "  </tbody>\n",
       "</table>\n",
       "</div>"
      ],
      "text/plain": [
       "     y  YYYYMM  factor1  factor2  factor3  factor4  factor5  factor6  \\\n",
       "0  8.9  200701      1.5      6.8      0.8      -14        0      2.2   \n",
       "1  3.3  200702      1.7      3.9      4.8     -107        1      1.5   \n",
       "2  7.4  200703     -0.3      1.7      5.5      -17        1      0.7   \n",
       "3  6.9  200704      0.7      3.8      5.5      -14        0      0.2   \n",
       "4 -2.1  200705      1.8      2.0      2.4       13       -1      0.3   \n",
       "\n",
       "     factor7  factor8  factor9  factor10  factor11  factor12  \n",
       "0  -3.030303      0.1     -6.8      -4.7       NaN       NaN  \n",
       "1   8.333333      0.0     -4.9      -5.5       NaN       NaN  \n",
       "2  36.000000      0.0     -4.3      -4.5       2.1      -0.1  \n",
       "3  15.151515      0.2     -6.5      -4.9       2.5      -0.3  \n",
       "4   8.333333      0.0     -4.9      -3.1       1.5       0.9  "
      ]
     },
     "execution_count": 3,
     "metadata": {},
     "output_type": "execute_result"
    }
   ],
   "source": [
    "df.head()"
   ]
  },
  {
   "cell_type": "code",
   "execution_count": 4,
   "metadata": {
    "collapsed": false
   },
   "outputs": [],
   "source": [
    "#for c in df.columns:\n",
    "#    print c\n",
    "#    print df[c].isnull().sum()\n",
    "#    print \"-\"*10"
   ]
  },
  {
   "cell_type": "code",
   "execution_count": 5,
   "metadata": {
    "collapsed": false
   },
   "outputs": [],
   "source": [
    "#x = np.linspace(0,len(df[\"y\"]),len(df[\"y\"]))\n",
    "#plt.scatter(x,df[\"y\"])\n",
    "#plt.show()"
   ]
  },
  {
   "cell_type": "code",
   "execution_count": 6,
   "metadata": {
    "collapsed": false
   },
   "outputs": [
    {
     "data": {
      "text/html": [
       "<div>\n",
       "<table border=\"1\" class=\"dataframe\">\n",
       "  <thead>\n",
       "    <tr style=\"text-align: right;\">\n",
       "      <th></th>\n",
       "      <th>y</th>\n",
       "      <th>YYYYMM</th>\n",
       "      <th>factor1</th>\n",
       "      <th>factor2</th>\n",
       "      <th>factor3</th>\n",
       "      <th>factor4</th>\n",
       "      <th>factor5</th>\n",
       "      <th>factor6</th>\n",
       "      <th>factor7</th>\n",
       "      <th>factor8</th>\n",
       "      <th>factor9</th>\n",
       "      <th>factor10</th>\n",
       "      <th>factor11</th>\n",
       "      <th>factor12</th>\n",
       "    </tr>\n",
       "  </thead>\n",
       "  <tbody>\n",
       "    <tr>\n",
       "      <th>2</th>\n",
       "      <td>7.4</td>\n",
       "      <td>200703</td>\n",
       "      <td>-0.3</td>\n",
       "      <td>1.7</td>\n",
       "      <td>5.5</td>\n",
       "      <td>-17</td>\n",
       "      <td>1</td>\n",
       "      <td>0.7</td>\n",
       "      <td>36.000000</td>\n",
       "      <td>0.0</td>\n",
       "      <td>-4.3</td>\n",
       "      <td>-4.5</td>\n",
       "      <td>2.1</td>\n",
       "      <td>-0.1</td>\n",
       "    </tr>\n",
       "    <tr>\n",
       "      <th>3</th>\n",
       "      <td>6.9</td>\n",
       "      <td>200704</td>\n",
       "      <td>0.7</td>\n",
       "      <td>3.8</td>\n",
       "      <td>5.5</td>\n",
       "      <td>-14</td>\n",
       "      <td>0</td>\n",
       "      <td>0.2</td>\n",
       "      <td>15.151515</td>\n",
       "      <td>0.2</td>\n",
       "      <td>-6.5</td>\n",
       "      <td>-4.9</td>\n",
       "      <td>2.5</td>\n",
       "      <td>-0.3</td>\n",
       "    </tr>\n",
       "    <tr>\n",
       "      <th>4</th>\n",
       "      <td>-2.1</td>\n",
       "      <td>200705</td>\n",
       "      <td>1.8</td>\n",
       "      <td>2.0</td>\n",
       "      <td>2.4</td>\n",
       "      <td>13</td>\n",
       "      <td>-1</td>\n",
       "      <td>0.3</td>\n",
       "      <td>8.333333</td>\n",
       "      <td>0.0</td>\n",
       "      <td>-4.9</td>\n",
       "      <td>-3.1</td>\n",
       "      <td>1.5</td>\n",
       "      <td>0.9</td>\n",
       "    </tr>\n",
       "    <tr>\n",
       "      <th>5</th>\n",
       "      <td>-1.3</td>\n",
       "      <td>200706</td>\n",
       "      <td>-0.6</td>\n",
       "      <td>0.6</td>\n",
       "      <td>3.3</td>\n",
       "      <td>-11</td>\n",
       "      <td>1</td>\n",
       "      <td>0.3</td>\n",
       "      <td>0.000000</td>\n",
       "      <td>-0.2</td>\n",
       "      <td>-4.7</td>\n",
       "      <td>-3.8</td>\n",
       "      <td>1.3</td>\n",
       "      <td>-1.1</td>\n",
       "    </tr>\n",
       "    <tr>\n",
       "      <th>6</th>\n",
       "      <td>-11.7</td>\n",
       "      <td>200707</td>\n",
       "      <td>-8.8</td>\n",
       "      <td>2.2</td>\n",
       "      <td>3.3</td>\n",
       "      <td>7</td>\n",
       "      <td>-1</td>\n",
       "      <td>-0.9</td>\n",
       "      <td>-8.333333</td>\n",
       "      <td>-0.1</td>\n",
       "      <td>-3.1</td>\n",
       "      <td>-3.4</td>\n",
       "      <td>1.9</td>\n",
       "      <td>-1.1</td>\n",
       "    </tr>\n",
       "  </tbody>\n",
       "</table>\n",
       "</div>"
      ],
      "text/plain": [
       "      y  YYYYMM  factor1  factor2  factor3  factor4  factor5  factor6  \\\n",
       "2   7.4  200703     -0.3      1.7      5.5      -17        1      0.7   \n",
       "3   6.9  200704      0.7      3.8      5.5      -14        0      0.2   \n",
       "4  -2.1  200705      1.8      2.0      2.4       13       -1      0.3   \n",
       "5  -1.3  200706     -0.6      0.6      3.3      -11        1      0.3   \n",
       "6 -11.7  200707     -8.8      2.2      3.3        7       -1     -0.9   \n",
       "\n",
       "     factor7  factor8  factor9  factor10  factor11  factor12  \n",
       "2  36.000000      0.0     -4.3      -4.5       2.1      -0.1  \n",
       "3  15.151515      0.2     -6.5      -4.9       2.5      -0.3  \n",
       "4   8.333333      0.0     -4.9      -3.1       1.5       0.9  \n",
       "5   0.000000     -0.2     -4.7      -3.8       1.3      -1.1  \n",
       "6  -8.333333     -0.1     -3.1      -3.4       1.9      -1.1  "
      ]
     },
     "execution_count": 6,
     "metadata": {},
     "output_type": "execute_result"
    }
   ],
   "source": [
    "df = df.dropna()\n",
    "df.head()"
   ]
  },
  {
   "cell_type": "code",
   "execution_count": 7,
   "metadata": {
    "collapsed": true
   },
   "outputs": [],
   "source": [
    "df_y = df[\"y\"]\n",
    "df.drop([\"y\"],axis=1,inplace=True)"
   ]
  },
  {
   "cell_type": "code",
   "execution_count": null,
   "metadata": {
    "collapsed": true
   },
   "outputs": [],
   "source": [
    "import chainer\n",
    "import chainer.functions as F\n",
    "import chainer.links as L\n",
    "from chainer import training\n",
    "from chainer.training import extensions\n",
    "\n",
    "class MyLSTM(chainer.Chain):\n",
    "\n",
    "    def __init__(self):\n",
    "        super(MyLSTM, self).__init__(\n",
    "            l1=L.LSTM(13,13),  # n_in -> n_units\n",
    "            l2=L.Linear(13, 1),  # n_units -> n_units\n",
    "        )\n",
    "\n",
    "    def __call__(self,x,y):\n",
    "        h1 = F.relu(self.l1(x))\n",
    "        h2 = F.Linear(self.l2(h1))\n",
    "        loss = F.mean_squared_error(h2,y)\n",
    "        accuracy = F.accuracy(h2, y)\n",
    "        return loss\n",
    "\n",
    "\n",
    "def main():\n",
    "    gpu = 0\n",
    "    batchsize = 1\n",
    "    epoch = 100\n",
    "    out = \"Result\"\n",
    "    frequency = 10\n",
    "    print('GPU: {}'.format(args.gpu))\n",
    "    print('# Minibatch-size: {}'.format(batchsize))\n",
    "    print('# epoch: {}'.format(epoch))\n",
    "    print('')\n",
    "\n",
    "    model = MyLSTM()\n",
    "    if gpu >= 0:\n",
    "        chainer.cuda.get_device_from_id(gpu).use()\n",
    "        model.to_gpu()  \n",
    "        \n",
    "    x = chainer.Variable(x)\n",
    "    y = chainer.Variable(y)\n",
    "    \n",
    "    for epoch in epoch:\n",
    "        \n",
    "\n",
    "    optimizer.setup(model)\n",
    "    \n",
    "    \n",
    "if __name__ == '__main__':\n",
    "    main()"
   ]
  },
  {
   "cell_type": "code",
   "execution_count": 25,
   "metadata": {
    "collapsed": false
   },
   "outputs": [
    {
     "name": "stdout",
     "output_type": "stream",
     "text": [
      "(94, 13)\n",
      "[ 15275.83]\n",
      "[ 15275.83]\n"
     ]
    }
   ],
   "source": [
    "from sklearn import linear_model\n",
    "model = linear_model.LinearRegression()\n",
    "\n",
    "#print np.array(df.ix[2])\n",
    "#print np.array([df_y.ix[2]])\n",
    "\n",
    "print df.shape\n",
    "\n",
    "sum_loss = 0\n",
    "for i in xrange(2,df.shape[0]-1):\n",
    "    model.fit(np.array(df.ix[i]),np.array([df_y.ix[i]]))\n",
    "    y_hat = model.predict(np.array(df.ix[i+1]))\n",
    "    sum_loss += (np.array(df_y.ix[i+1])-y_hat)**2\n",
    "\n",
    "print sum_loss\n",
    "model = linear_model.Lasso()\n",
    "\n",
    "sum_loss = 0\n",
    "for i in xrange(2,df.shape[0]-1):\n",
    "    model.fit(np.array(df.ix[i]),np.array([df_y.ix[i]]))\n",
    "    y_hat = model.predict(np.array(df.ix[i+1]))\n",
    "    sum_loss += (np.array(df_y.ix[i+1])-y_hat)**2\n",
    "print sum_loss\n"
   ]
  },
  {
   "cell_type": "code",
   "execution_count": null,
   "metadata": {
    "collapsed": false
   },
   "outputs": [],
   "source": [
    "from sklearn.linear_model import LinearRegression\n",
    "\n",
    "\n",
    "\n",
    "print \"NORMALIZE\"\n",
    "df_y = df[\"y\"]\n",
    "df.drop([\"y\"],axis=1,inplace=True)\n",
    "\n",
    "model = linear_model.LinearRegression(normalize=True)\n",
    "for x, y in zip(df,df_y):\n",
    "    model.fit(df,df_y)\n",
    "\n"
   ]
  },
  {
   "cell_type": "code",
   "execution_count": null,
   "metadata": {
    "collapsed": true
   },
   "outputs": [],
   "source": []
  },
  {
   "cell_type": "code",
   "execution_count": null,
   "metadata": {
    "collapsed": true
   },
   "outputs": [],
   "source": []
  }
 ],
 "metadata": {
  "kernelspec": {
   "display_name": "Python 2",
   "language": "python",
   "name": "python2"
  },
  "language_info": {
   "codemirror_mode": {
    "name": "ipython",
    "version": 2
   },
   "file_extension": ".py",
   "mimetype": "text/x-python",
   "name": "python",
   "nbconvert_exporter": "python",
   "pygments_lexer": "ipython2",
   "version": "2.7.10"
  }
 },
 "nbformat": 4,
 "nbformat_minor": 0
}
